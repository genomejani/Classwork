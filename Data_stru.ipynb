{
 "cells": [
  {
   "cell_type": "code",
   "execution_count": null,
   "id": "b8dc38c0-5207-40ad-9414-c516d2627a5e",
   "metadata": {},
   "outputs": [],
   "source": [
    "list\n",
    "Tuple\n",
    "set\n",
    "Dictionary"
   ]
  },
  {
   "cell_type": "code",
   "execution_count": 9,
   "id": "16ddf4c8-e50c-4bcc-aa30-83b12e2c66fd",
   "metadata": {},
   "outputs": [
    {
     "data": {
      "text/plain": [
       "list"
      ]
     },
     "execution_count": 9,
     "metadata": {},
     "output_type": "execute_result"
    }
   ],
   "source": [
    "num = [45,24,76,41,84,29,62]\n",
    "type(num)"
   ]
  },
  {
   "cell_type": "code",
   "execution_count": 15,
   "id": "81d41750-748b-415b-b88c-803ece4b550e",
   "metadata": {},
   "outputs": [
    {
     "data": {
      "text/plain": [
       "tuple"
      ]
     },
     "execution_count": 15,
     "metadata": {},
     "output_type": "execute_result"
    }
   ],
   "source": [
    "num = (45,24,76,41,84,29,62)\n",
    "type(num)"
   ]
  },
  {
   "cell_type": "code",
   "execution_count": 19,
   "id": "b6382a96-620d-4d21-9ac2-639865f7ba08",
   "metadata": {},
   "outputs": [
    {
     "data": {
      "text/plain": [
       "set"
      ]
     },
     "execution_count": 19,
     "metadata": {},
     "output_type": "execute_result"
    }
   ],
   "source": [
    "num = {45,24,76,41,84,29,62}\n",
    "type(num)"
   ]
  },
  {
   "cell_type": "code",
   "execution_count": 21,
   "id": "e1be31cb-c78b-4cf9-a0ee-0114082648fa",
   "metadata": {},
   "outputs": [
    {
     "data": {
      "text/plain": [
       "dict"
      ]
     },
     "execution_count": 21,
     "metadata": {},
     "output_type": "execute_result"
    }
   ],
   "source": [
    "num = {45:24,76:41,84:29,62:78}\n",
    "type(num)"
   ]
  },
  {
   "cell_type": "code",
   "execution_count": 23,
   "id": "31af10a2-bfcd-453f-b16e-bf7b603513ce",
   "metadata": {},
   "outputs": [],
   "source": [
    "num = [45,24,76,41,84,29,62,28,94,55]\n"
   ]
  },
  {
   "cell_type": "code",
   "execution_count": 25,
   "id": "54bae020-33ba-4380-8ae0-3af65a822318",
   "metadata": {},
   "outputs": [],
   "source": [
    "num[1]=32"
   ]
  },
  {
   "cell_type": "code",
   "execution_count": 27,
   "id": "567a6c20-5f33-470f-a4d6-ce457b7c5ec4",
   "metadata": {},
   "outputs": [
    {
     "data": {
      "text/plain": [
       "[45, 32, 76, 41, 84, 29, 62, 28, 94, 55]"
      ]
     },
     "execution_count": 27,
     "metadata": {},
     "output_type": "execute_result"
    }
   ],
   "source": [
    "num"
   ]
  },
  {
   "cell_type": "code",
   "execution_count": 33,
   "id": "efde84a8-26a1-4f19-9523-eb5d86e2f4ec",
   "metadata": {},
   "outputs": [
    {
     "data": {
      "text/plain": [
       "[67, 89.05, True, 'Pune', 28]"
      ]
     },
     "execution_count": 33,
     "metadata": {},
     "output_type": "execute_result"
    }
   ],
   "source": [
    "mixed =[67,89.05,True,'Pune',28]\n",
    "mixed"
   ]
  },
  {
   "cell_type": "markdown",
   "id": "46004033-c89c-422c-80c1-9dbe0c46ce33",
   "metadata": {},
   "source": [
    "mixed[-2]"
   ]
  },
  {
   "cell_type": "code",
   "execution_count": 36,
   "id": "c77c7aa1-468a-43bc-8559-8f7a5a75ae76",
   "metadata": {},
   "outputs": [
    {
     "data": {
      "text/plain": [
       "'Pune'"
      ]
     },
     "execution_count": 36,
     "metadata": {},
     "output_type": "execute_result"
    }
   ],
   "source": [
    "mixed[-2]"
   ]
  },
  {
   "cell_type": "code",
   "execution_count": 40,
   "id": "be6b8222-7de3-4a18-90fa-d9b52163b45f",
   "metadata": {},
   "outputs": [
    {
     "name": "stdout",
     "output_type": "stream",
     "text": [
      "45\n",
      "32\n",
      "76\n",
      "41\n",
      "84\n",
      "29\n",
      "62\n",
      "28\n",
      "94\n",
      "55\n"
     ]
    }
   ],
   "source": [
    "for n in num:\n",
    "    print(n)"
   ]
  },
  {
   "cell_type": "code",
   "execution_count": 44,
   "id": "38a72e5e-b449-409b-9570-b031bdd32d53",
   "metadata": {},
   "outputs": [
    {
     "name": "stdout",
     "output_type": "stream",
     "text": [
      "45\n",
      "41\n",
      "29\n",
      "55\n"
     ]
    }
   ],
   "source": [
    "for n in num:\n",
    "    if(n%2==1):\n",
    "        print(n)"
   ]
  },
  {
   "cell_type": "markdown",
   "id": "554314f2-9322-4d79-a547-af7f03863da9",
   "metadata": {},
   "source": [
    "29 in num"
   ]
  },
  {
   "cell_type": "code",
   "execution_count": 47,
   "id": "39b76026-5824-4ce4-a968-c3a7ceeb59ad",
   "metadata": {},
   "outputs": [
    {
     "data": {
      "text/plain": [
       "True"
      ]
     },
     "execution_count": 47,
     "metadata": {},
     "output_type": "execute_result"
    }
   ],
   "source": [
    "29 in num"
   ]
  },
  {
   "cell_type": "code",
   "execution_count": 49,
   "id": "1159b5a4-c2a1-4ac2-9f0a-a68f67bdcddd",
   "metadata": {},
   "outputs": [],
   "source": [
    "e =[]"
   ]
  },
  {
   "cell_type": "code",
   "execution_count": 53,
   "id": "918650ac-a4f9-401f-b639-3298fc49cca2",
   "metadata": {},
   "outputs": [
    {
     "data": {
      "text/plain": [
       "list"
      ]
     },
     "execution_count": 53,
     "metadata": {},
     "output_type": "execute_result"
    }
   ],
   "source": [
    "type(e)"
   ]
  },
  {
   "cell_type": "code",
   "execution_count": 55,
   "id": "09587cb6-a85e-4dae-8ada-6be7371a6a76",
   "metadata": {},
   "outputs": [
    {
     "ename": "IndexError",
     "evalue": "list index out of range",
     "output_type": "error",
     "traceback": [
      "\u001b[1;31m---------------------------------------------------------------------------\u001b[0m",
      "\u001b[1;31mIndexError\u001b[0m                                Traceback (most recent call last)",
      "Cell \u001b[1;32mIn[55], line 1\u001b[0m\n\u001b[1;32m----> 1\u001b[0m e[\u001b[38;5;241m0\u001b[39m]\n",
      "\u001b[1;31mIndexError\u001b[0m: list index out of range"
     ]
    }
   ],
   "source": [
    "e[0]"
   ]
  },
  {
   "cell_type": "code",
   "execution_count": 59,
   "id": "c897d790-73b9-4ab9-b9fb-f2f9258016a0",
   "metadata": {},
   "outputs": [],
   "source": [
    "e+= [78]"
   ]
  },
  {
   "cell_type": "code",
   "execution_count": 61,
   "id": "9ae5f21e-470d-4eb0-98f0-7212ab0637a0",
   "metadata": {},
   "outputs": [
    {
     "data": {
      "text/plain": [
       "[26, 78]"
      ]
     },
     "execution_count": 61,
     "metadata": {},
     "output_type": "execute_result"
    }
   ],
   "source": [
    "e"
   ]
  },
  {
   "cell_type": "code",
   "execution_count": 65,
   "id": "879db2b1-4510-4741-8461-45040c31d3eb",
   "metadata": {},
   "outputs": [
    {
     "data": {
      "text/plain": [
       "[41, 84, 29, 62, 28]"
      ]
     },
     "execution_count": 65,
     "metadata": {},
     "output_type": "execute_result"
    }
   ],
   "source": [
    "#slicing\n",
    "x = num[3:8]\n",
    "x"
   ]
  },
  {
   "cell_type": "markdown",
   "id": "c660d093-296c-45d0-be32-90785ddf9182",
   "metadata": {},
   "source": [
    "##### "
   ]
  },
  {
   "cell_type": "code",
   "execution_count": 69,
   "id": "f9c2f7e2-ad28-44f5-8b49-2178bc958c09",
   "metadata": {},
   "outputs": [
    {
     "data": {
      "text/plain": [
       "[45, 32, 76, 41, 84]"
      ]
     },
     "execution_count": 69,
     "metadata": {},
     "output_type": "execute_result"
    }
   ],
   "source": [
    "num[:5]"
   ]
  },
  {
   "cell_type": "code",
   "execution_count": 71,
   "id": "e2de0f4b-3b4f-495a-a268-dbadd468a4b6",
   "metadata": {},
   "outputs": [
    {
     "data": {
      "text/plain": [
       "[4, 5, 6, 7, 1, 2]"
      ]
     },
     "execution_count": 71,
     "metadata": {},
     "output_type": "execute_result"
    }
   ],
   "source": [
    "num1 = [4,5,6]\n",
    "num2 =[7,1,2]\n",
    "x = num1+num2\n",
    "x"
   ]
  },
  {
   "cell_type": "code",
   "execution_count": 75,
   "id": "9a01f80d-4907-40ad-abd7-9bf8024c808e",
   "metadata": {},
   "outputs": [],
   "source": [
    "x1 = num1*3"
   ]
  },
  {
   "cell_type": "code",
   "execution_count": 77,
   "id": "c848cb32-f436-449c-b0c1-2d101ca07af6",
   "metadata": {},
   "outputs": [
    {
     "data": {
      "text/plain": [
       "[4, 5, 6, 4, 5, 6, 4, 5, 6]"
      ]
     },
     "execution_count": 77,
     "metadata": {},
     "output_type": "execute_result"
    }
   ],
   "source": [
    "x1"
   ]
  },
  {
   "cell_type": "code",
   "execution_count": 79,
   "id": "957e3d88-a4f6-4171-a788-b65469c156a3",
   "metadata": {},
   "outputs": [
    {
     "data": {
      "text/plain": [
       "10"
      ]
     },
     "execution_count": 79,
     "metadata": {},
     "output_type": "execute_result"
    }
   ],
   "source": [
    "len(num)"
   ]
  },
  {
   "cell_type": "code",
   "execution_count": 81,
   "id": "b3657c2f-9b7e-46f4-b318-2e78b9e0858a",
   "metadata": {},
   "outputs": [
    {
     "data": {
      "text/plain": [
       "(28, 94, 546)"
      ]
     },
     "execution_count": 81,
     "metadata": {},
     "output_type": "execute_result"
    }
   ],
   "source": [
    "min(num), max(num), sum(num)"
   ]
  },
  {
   "cell_type": "code",
   "execution_count": 85,
   "id": "9a42dc7f-8673-4b39-8262-83bd435d38db",
   "metadata": {},
   "outputs": [
    {
     "data": {
      "text/plain": [
       "[28, 29, 32, 41, 45, 55, 62, 76, 84, 94]"
      ]
     },
     "execution_count": 85,
     "metadata": {},
     "output_type": "execute_result"
    }
   ],
   "source": [
    "sorted(num)"
   ]
  },
  {
   "cell_type": "code",
   "execution_count": 87,
   "id": "0cc85ec2-eeb7-4da5-97cc-00742d9eaa60",
   "metadata": {},
   "outputs": [
    {
     "data": {
      "text/plain": [
       "[94, 84, 76, 62, 55, 45, 41, 32, 29, 28]"
      ]
     },
     "execution_count": 87,
     "metadata": {},
     "output_type": "execute_result"
    }
   ],
   "source": [
    "sorted(num,reverse=True)"
   ]
  },
  {
   "cell_type": "code",
   "execution_count": 89,
   "id": "66dec51b-1bf0-468a-86f4-fde1cc4ca8e9",
   "metadata": {},
   "outputs": [],
   "source": [
    "num.append(26)"
   ]
  },
  {
   "cell_type": "code",
   "execution_count": 91,
   "id": "214e24d6-5c16-4d33-81a9-bff987bbe2f1",
   "metadata": {},
   "outputs": [
    {
     "data": {
      "text/plain": [
       "[45, 32, 76, 41, 84, 29, 62, 28, 94, 55, 26]"
      ]
     },
     "execution_count": 91,
     "metadata": {},
     "output_type": "execute_result"
    }
   ],
   "source": [
    "num"
   ]
  },
  {
   "cell_type": "code",
   "execution_count": 93,
   "id": "1e50db67-d337-4789-85d5-d82f2aec3e9c",
   "metadata": {},
   "outputs": [],
   "source": [
    "num.sort()"
   ]
  },
  {
   "cell_type": "code",
   "execution_count": 95,
   "id": "d0812ed2-1784-4909-8ece-9b706ab29824",
   "metadata": {},
   "outputs": [
    {
     "data": {
      "text/plain": [
       "[26, 28, 29, 32, 41, 45, 55, 62, 76, 84, 94]"
      ]
     },
     "execution_count": 95,
     "metadata": {},
     "output_type": "execute_result"
    }
   ],
   "source": [
    "num"
   ]
  },
  {
   "cell_type": "code",
   "execution_count": 97,
   "id": "78c79b5d-154e-448a-b815-4ffb7ec329f5",
   "metadata": {},
   "outputs": [
    {
     "data": {
      "text/plain": [
       "[26, 28, 29, 32, 41, 45, 55, 62, 76, 84, 94]"
      ]
     },
     "execution_count": 97,
     "metadata": {},
     "output_type": "execute_result"
    }
   ],
   "source": [
    "num"
   ]
  },
  {
   "cell_type": "code",
   "execution_count": 101,
   "id": "2f6dc154-6ba3-430d-9db5-b51fe2ec02b1",
   "metadata": {},
   "outputs": [
    {
     "data": {
      "text/plain": [
       "[26, 28, 32, 41, 45, 55, 62, 76, 84, 94]"
      ]
     },
     "execution_count": 101,
     "metadata": {},
     "output_type": "execute_result"
    }
   ],
   "source": [
    "num.remove(29)\n",
    "num"
   ]
  },
  {
   "cell_type": "markdown",
   "id": "0234c96f-f22c-489a-bfe4-e25f106830d1",
   "metadata": {},
   "source": [
    "num.pop(2)\n",
    "num"
   ]
  },
  {
   "cell_type": "code",
   "execution_count": 104,
   "id": "edc7ff25-9679-4a7a-8fec-af90af783b50",
   "metadata": {},
   "outputs": [
    {
     "data": {
      "text/plain": [
       "[26, 28, 41, 45, 55, 62, 76, 84, 94]"
      ]
     },
     "execution_count": 104,
     "metadata": {},
     "output_type": "execute_result"
    }
   ],
   "source": [
    "num.pop(2)\n",
    "num"
   ]
  },
  {
   "cell_type": "code",
   "execution_count": 106,
   "id": "23e558c7-c80a-46d9-8e1a-44880bd9f3c1",
   "metadata": {},
   "outputs": [
    {
     "data": {
      "text/plain": [
       "[26, 28, 41, 58, 45, 55, 62, 76, 84, 94]"
      ]
     },
     "execution_count": 106,
     "metadata": {},
     "output_type": "execute_result"
    }
   ],
   "source": [
    "num.insert(3, 58)\n",
    "num"
   ]
  },
  {
   "cell_type": "code",
   "execution_count": 108,
   "id": "15a9db3c-b3fb-41f8-b617-2e536a772f68",
   "metadata": {},
   "outputs": [],
   "source": [
    "num.reverse()"
   ]
  },
  {
   "cell_type": "code",
   "execution_count": 110,
   "id": "e9c0c020-0916-4f18-aafa-f0aef57730de",
   "metadata": {},
   "outputs": [
    {
     "data": {
      "text/plain": [
       "[94, 84, 76, 62, 55, 45, 58, 41, 28, 26]"
      ]
     },
     "execution_count": 110,
     "metadata": {},
     "output_type": "execute_result"
    }
   ],
   "source": [
    "num"
   ]
  },
  {
   "cell_type": "code",
   "execution_count": 112,
   "id": "93536830-0603-44e1-bd62-e666af420720",
   "metadata": {},
   "outputs": [
    {
     "data": {
      "text/plain": [
       "[]"
      ]
     },
     "execution_count": 112,
     "metadata": {},
     "output_type": "execute_result"
    }
   ],
   "source": [
    "num.clear()\n",
    "num"
   ]
  },
  {
   "cell_type": "code",
   "execution_count": 114,
   "id": "3a75aaf8-a952-4d93-b913-1f4983f0ff39",
   "metadata": {},
   "outputs": [],
   "source": [
    "del num"
   ]
  },
  {
   "cell_type": "code",
   "execution_count": 116,
   "id": "5272a3bd-4c8a-4f92-90e3-b4b8ec13aa0c",
   "metadata": {},
   "outputs": [
    {
     "ename": "NameError",
     "evalue": "name 'num' is not defined",
     "output_type": "error",
     "traceback": [
      "\u001b[1;31m---------------------------------------------------------------------------\u001b[0m",
      "\u001b[1;31mNameError\u001b[0m                                 Traceback (most recent call last)",
      "Cell \u001b[1;32mIn[116], line 1\u001b[0m\n\u001b[1;32m----> 1\u001b[0m num\n",
      "\u001b[1;31mNameError\u001b[0m: name 'num' is not defined"
     ]
    }
   ],
   "source": [
    "num"
   ]
  },
  {
   "cell_type": "code",
   "execution_count": 153,
   "id": "4b63e366-9752-4f76-9c50-c8635f405a55",
   "metadata": {},
   "outputs": [],
   "source": [
    "metals = ['silver', 'gold', 'copper' , 'aluminium', 'silver' , 'silver', 'copper', 'gold' , 'silver' ]\n",
    "new_metals=[]"
   ]
  },
  {
   "cell_type": "code",
   "execution_count": 128,
   "id": "c4b721af-8d5c-4efd-8b5b-7373e55d818a",
   "metadata": {},
   "outputs": [
    {
     "name": "stdout",
     "output_type": "stream",
     "text": [
      "['silver', 'gold', 'aluminium', 'silver', 'silver', 'gold', 'silver']\n"
     ]
    }
   ],
   "source": [
    "for n in metals:\n",
    "    if n != 'copper':\n",
    "        n_metals+=[n]\n",
    "\n",
    "print(n_metals)"
   ]
  },
  {
   "cell_type": "code",
   "execution_count": 175,
   "id": "af9ffb22-f4c2-44c6-85f2-4ee9a7a1d803",
   "metadata": {},
   "outputs": [],
   "source": [
    "new_metals = [metal for metal in metals if metal !='cooper']"
   ]
  },
  {
   "cell_type": "code",
   "execution_count": 177,
   "id": "72ff09d7-7518-4efd-995f-3f7a6b4dbcd2",
   "metadata": {},
   "outputs": [
    {
     "data": {
      "text/plain": [
       "['silver',\n",
       " 'gold',\n",
       " 'copper',\n",
       " 'aluminium',\n",
       " 'silver',\n",
       " 'silver',\n",
       " 'copper',\n",
       " 'gold',\n",
       " 'silver']"
      ]
     },
     "execution_count": 177,
     "metadata": {},
     "output_type": "execute_result"
    }
   ],
   "source": [
    "new_metals"
   ]
  },
  {
   "cell_type": "code",
   "execution_count": 134,
   "id": "dedf2c1b-def0-4824-a4b9-4c5798b31eae",
   "metadata": {},
   "outputs": [],
   "source": [
    "num = [45,32,15,67,88,55]"
   ]
  },
  {
   "cell_type": "markdown",
   "id": "e9636e01-dbd9-49a9-a80a-5ad9990d83da",
   "metadata": {},
   "source": [
    "new = [n/2 for n in num]"
   ]
  },
  {
   "cell_type": "code",
   "execution_count": 139,
   "id": "aa142ca4-388c-43dd-a5e6-27000248dd96",
   "metadata": {},
   "outputs": [
    {
     "data": {
      "text/plain": [
       "[22.5, 16.0, 7.5, 33.5, 44.0, 27.5]"
      ]
     },
     "execution_count": 139,
     "metadata": {},
     "output_type": "execute_result"
    }
   ],
   "source": [
    "new = [n/2 for n in num]\n",
    "new"
   ]
  },
  {
   "cell_type": "code",
   "execution_count": 141,
   "id": "bb71dc70-2d0a-4d8f-88fb-318625e6af89",
   "metadata": {},
   "outputs": [
    {
     "data": {
      "text/plain": [
       "[2025, 1024, 225, 4489, 7744, 3025]"
      ]
     },
     "execution_count": 141,
     "metadata": {},
     "output_type": "execute_result"
    }
   ],
   "source": [
    "new = [n*n for n in num]\n",
    "new"
   ]
  },
  {
   "cell_type": "code",
   "execution_count": 143,
   "id": "671e5f88-32cc-45c8-9c15-7e41df969b63",
   "metadata": {},
   "outputs": [
    {
     "data": {
      "text/plain": [
       "[45, 15, 67, 55]"
      ]
     },
     "execution_count": 143,
     "metadata": {},
     "output_type": "execute_result"
    }
   ],
   "source": [
    "new = [n  for n in num if n%2==1]\n",
    "new"
   ]
  },
  {
   "cell_type": "code",
   "execution_count": 145,
   "id": "7e00a1be-c178-410d-95bc-65b08cb34b90",
   "metadata": {},
   "outputs": [
    {
     "data": {
      "text/plain": [
       "[22.5, 7.5, 33.5, 27.5]"
      ]
     },
     "execution_count": 145,
     "metadata": {},
     "output_type": "execute_result"
    }
   ],
   "source": [
    "new = [n/2  for n in num if n%2==1]\n",
    "new"
   ]
  },
  {
   "cell_type": "code",
   "execution_count": 205,
   "id": "1692ecb5-1498-4d32-a58b-4d29668a0394",
   "metadata": {},
   "outputs": [],
   "source": [
    "l_num=[5,6,2,8,9,1,3,7,4,0]"
   ]
  },
  {
   "cell_type": "code",
   "execution_count": 193,
   "id": "58b63b91-7a36-4b7e-ae3a-ad42d5201390",
   "metadata": {},
   "outputs": [],
   "source": [
    "num_b=l_num[5:]"
   ]
  },
  {
   "cell_type": "code",
   "execution_count": 197,
   "id": "8eb3747f-679d-4d5b-9f02-c8fd047244c7",
   "metadata": {},
   "outputs": [],
   "source": [
    "num_b.sort()"
   ]
  },
  {
   "cell_type": "code",
   "execution_count": 199,
   "id": "869c00b9-19b1-4052-b051-5bbebd77f932",
   "metadata": {},
   "outputs": [
    {
     "data": {
      "text/plain": [
       "[0, 1, 3, 4, 7]"
      ]
     },
     "execution_count": 199,
     "metadata": {},
     "output_type": "execute_result"
    }
   ],
   "source": [
    "num_b"
   ]
  },
  {
   "cell_type": "code",
   "execution_count": 201,
   "id": "03b0a1a6-f55b-4791-97c5-039778ddc093",
   "metadata": {},
   "outputs": [
    {
     "data": {
      "text/plain": [
       "[5, 6, 2, 8, 9, 0, 1, 3, 4, 7]"
      ]
     },
     "execution_count": 201,
     "metadata": {},
     "output_type": "execute_result"
    }
   ],
   "source": [
    "num_aft = l_num[:5]+num_b\n",
    "num_aft"
   ]
  },
  {
   "cell_type": "code",
   "execution_count": 209,
   "id": "4d0a4512-6df9-4b80-b571-4c1db394a139",
   "metadata": {},
   "outputs": [],
   "source": [
    "l_num[5:].sort()"
   ]
  },
  {
   "cell_type": "code",
   "execution_count": 219,
   "id": "26a7afb6-c6a6-42de-a12e-0096b06fe1d3",
   "metadata": {},
   "outputs": [
    {
     "data": {
      "text/plain": [
       "[5, 6, 2, 8, 9, 1, 3, 7, 4, 0]"
      ]
     },
     "execution_count": 219,
     "metadata": {},
     "output_type": "execute_result"
    }
   ],
   "source": [
    "l_num"
   ]
  },
  {
   "cell_type": "code",
   "execution_count": 211,
   "id": "ca7f7824-7dc2-4187-93ae-2376225c6019",
   "metadata": {},
   "outputs": [
    {
     "data": {
      "text/plain": [
       "[5, 6, 2, 8, 9]"
      ]
     },
     "execution_count": 211,
     "metadata": {},
     "output_type": "execute_result"
    }
   ],
   "source": [
    "l_num[:5]"
   ]
  },
  {
   "cell_type": "code",
   "execution_count": 221,
   "id": "6ea558b0-8034-48be-92d0-2b0b91b2448f",
   "metadata": {},
   "outputs": [],
   "source": [
    "l_test= l_num[:5] + sorted(l_num[5:])"
   ]
  },
  {
   "cell_type": "code",
   "execution_count": 223,
   "id": "42e85c4a-fab9-4065-afa1-a1f5bacac69a",
   "metadata": {},
   "outputs": [
    {
     "data": {
      "text/plain": [
       "[5, 6, 2, 8, 9, 0, 1, 3, 4, 7]"
      ]
     },
     "execution_count": 223,
     "metadata": {},
     "output_type": "execute_result"
    }
   ],
   "source": [
    "l_test"
   ]
  },
  {
   "cell_type": "code",
   "execution_count": null,
   "id": "4d9eff3e-1114-4bb0-9100-81b8bff5539c",
   "metadata": {},
   "outputs": [],
   "source": [
    "################TUPLE####################\n"
   ]
  },
  {
   "cell_type": "code",
   "execution_count": 249,
   "id": "582ce04c-e959-48f2-bfb2-22cdcab58f5c",
   "metadata": {},
   "outputs": [],
   "source": [
    "num = 34,12,67,83,46,41,10"
   ]
  },
  {
   "cell_type": "code",
   "execution_count": 251,
   "id": "afcdc676-b6fe-46c0-9c72-06cbaa0ccdd9",
   "metadata": {},
   "outputs": [
    {
     "data": {
      "text/plain": [
       "tuple"
      ]
     },
     "execution_count": 251,
     "metadata": {},
     "output_type": "execute_result"
    }
   ],
   "source": [
    "type(num)"
   ]
  },
  {
   "cell_type": "code",
   "execution_count": 253,
   "id": "7b36580a-c132-45f7-811c-f4d6b65bcd3f",
   "metadata": {},
   "outputs": [
    {
     "data": {
      "text/plain": [
       "(34, 12, 67, 83, 46, 41, 10)"
      ]
     },
     "execution_count": 253,
     "metadata": {},
     "output_type": "execute_result"
    }
   ],
   "source": [
    "num"
   ]
  },
  {
   "cell_type": "code",
   "execution_count": 255,
   "id": "76d3e284-26ef-426d-bdec-4ba714f5f032",
   "metadata": {},
   "outputs": [],
   "source": [
    "##############SET#######################"
   ]
  },
  {
   "cell_type": "code",
   "execution_count": 261,
   "id": "e1d3e508-be92-473a-b092-cef2b9bf870c",
   "metadata": {},
   "outputs": [],
   "source": [
    "num_s = {34,12,67,83,46,41,10,10}"
   ]
  },
  {
   "cell_type": "code",
   "execution_count": 263,
   "id": "34f1a305-0d75-403c-b8e2-f53eb541a55e",
   "metadata": {},
   "outputs": [
    {
     "data": {
      "text/plain": [
       "{10, 12, 34, 41, 46, 67, 83}"
      ]
     },
     "execution_count": 263,
     "metadata": {},
     "output_type": "execute_result"
    }
   ],
   "source": [
    "num_s"
   ]
  },
  {
   "cell_type": "markdown",
   "id": "c2bd59e5-3b69-4d70-820c-f09c9c53ff2c",
   "metadata": {},
   "source": [
    "num_s{2}"
   ]
  },
  {
   "cell_type": "code",
   "execution_count": 268,
   "id": "52c1b027-b2fd-4631-95d4-7d27eee4275c",
   "metadata": {},
   "outputs": [
    {
     "ename": "TypeError",
     "evalue": "'set' object is not subscriptable",
     "output_type": "error",
     "traceback": [
      "\u001b[1;31m---------------------------------------------------------------------------\u001b[0m",
      "\u001b[1;31mTypeError\u001b[0m                                 Traceback (most recent call last)",
      "Cell \u001b[1;32mIn[268], line 1\u001b[0m\n\u001b[1;32m----> 1\u001b[0m num_s[\u001b[38;5;241m2\u001b[39m]\n",
      "\u001b[1;31mTypeError\u001b[0m: 'set' object is not subscriptable"
     ]
    }
   ],
   "source": [
    "num_s[2]"
   ]
  },
  {
   "cell_type": "code",
   "execution_count": 270,
   "id": "0d03e1a8-91cb-432b-a777-3aaabe161d72",
   "metadata": {},
   "outputs": [],
   "source": [
    "num_s.add(3)"
   ]
  },
  {
   "cell_type": "code",
   "execution_count": 272,
   "id": "d18777c5-f7f7-419d-93be-b6c0944caa8e",
   "metadata": {},
   "outputs": [
    {
     "data": {
      "text/plain": [
       "{3, 10, 12, 34, 41, 46, 67, 83}"
      ]
     },
     "execution_count": 272,
     "metadata": {},
     "output_type": "execute_result"
    }
   ],
   "source": [
    "num_s"
   ]
  },
  {
   "cell_type": "code",
   "execution_count": 278,
   "id": "bd1e6974-a3f6-4e6b-b819-fefd75074b61",
   "metadata": {},
   "outputs": [],
   "source": [
    "s1 = {1,2,3,4,5}\n",
    "s2 = {3,4,5,6,7}"
   ]
  },
  {
   "cell_type": "code",
   "execution_count": 280,
   "id": "12c98ab7-da94-497b-965b-855c1446116b",
   "metadata": {},
   "outputs": [
    {
     "data": {
      "text/plain": [
       "{1, 2, 3, 4, 5, 6, 7}"
      ]
     },
     "execution_count": 280,
     "metadata": {},
     "output_type": "execute_result"
    }
   ],
   "source": [
    "s1.union(s2)"
   ]
  },
  {
   "cell_type": "code",
   "execution_count": 282,
   "id": "95522dab-6b16-4aa8-ae07-5f26ee98e6e8",
   "metadata": {},
   "outputs": [
    {
     "data": {
      "text/plain": [
       "{3, 4, 5}"
      ]
     },
     "execution_count": 282,
     "metadata": {},
     "output_type": "execute_result"
    }
   ],
   "source": [
    "s1.intersection(s2)"
   ]
  },
  {
   "cell_type": "code",
   "execution_count": 284,
   "id": "0d31300f-0ce9-439e-8f39-36f1276f1ac1",
   "metadata": {},
   "outputs": [
    {
     "data": {
      "text/plain": [
       "False"
      ]
     },
     "execution_count": 284,
     "metadata": {},
     "output_type": "execute_result"
    }
   ],
   "source": [
    "s1.issubset(s2)"
   ]
  },
  {
   "cell_type": "code",
   "execution_count": 286,
   "id": "6490dea5-1593-4887-89b0-fe527a803a32",
   "metadata": {},
   "outputs": [
    {
     "data": {
      "text/plain": [
       "{1, 2}"
      ]
     },
     "execution_count": 286,
     "metadata": {},
     "output_type": "execute_result"
    }
   ],
   "source": [
    "s1.difference(s2)"
   ]
  },
  {
   "cell_type": "code",
   "execution_count": 290,
   "id": "c617c8ef-bd61-41ef-8a79-19b0cf726c9c",
   "metadata": {},
   "outputs": [],
   "source": [
    "s1.difference_update(s2)"
   ]
  },
  {
   "cell_type": "code",
   "execution_count": 292,
   "id": "0c16d943-a916-4f58-b651-9fa35a1252a1",
   "metadata": {},
   "outputs": [
    {
     "data": {
      "text/plain": [
       "{1, 2}"
      ]
     },
     "execution_count": 292,
     "metadata": {},
     "output_type": "execute_result"
    }
   ],
   "source": [
    "s1"
   ]
  },
  {
   "cell_type": "code",
   "execution_count": null,
   "id": "85693ccf-b7c8-4b20-8d00-ee624b26ca34",
   "metadata": {},
   "outputs": [],
   "source": [
    "###################Dictionary####################"
   ]
  },
  {
   "cell_type": "code",
   "execution_count": 294,
   "id": "825dd790-1f36-42c3-976f-20a88c51eb1b",
   "metadata": {},
   "outputs": [],
   "source": [
    "d = {2:56, 5:27 , 6:379, 7:372, 'a':'apple'}"
   ]
  },
  {
   "cell_type": "code",
   "execution_count": 296,
   "id": "b4acf4f8-7a22-49c7-83a7-20a31958c3b2",
   "metadata": {},
   "outputs": [
    {
     "data": {
      "text/plain": [
       "dict_keys([2, 5, 6, 7, 'a'])"
      ]
     },
     "execution_count": 296,
     "metadata": {},
     "output_type": "execute_result"
    }
   ],
   "source": [
    "d.keys()"
   ]
  },
  {
   "cell_type": "code",
   "execution_count": 308,
   "id": "9fcb0b11-1875-42ef-91f1-79b2da9fbe1c",
   "metadata": {},
   "outputs": [],
   "source": [
    "d[6] = 1000 ,12"
   ]
  },
  {
   "cell_type": "code",
   "execution_count": 310,
   "id": "cd387cec-aee9-4777-8b69-b788e0586629",
   "metadata": {},
   "outputs": [
    {
     "data": {
      "text/plain": [
       "{2: 56, 5: 27, 6: (1000, 12), 7: 372, 'a': 'apple'}"
      ]
     },
     "execution_count": 310,
     "metadata": {},
     "output_type": "execute_result"
    }
   ],
   "source": [
    "d"
   ]
  },
  {
   "cell_type": "code",
   "execution_count": 312,
   "id": "8a319fb7-fefe-400f-94b1-e9ad8ea301f2",
   "metadata": {},
   "outputs": [
    {
     "data": {
      "text/plain": [
       "dict"
      ]
     },
     "execution_count": 312,
     "metadata": {},
     "output_type": "execute_result"
    }
   ],
   "source": [
    "x= {}\n",
    "type (x)"
   ]
  },
  {
   "cell_type": "code",
   "execution_count": 320,
   "id": "3ce37ecf-7ab5-4f16-acaa-1c62dca22a38",
   "metadata": {},
   "outputs": [],
   "source": [
    "l = [5,4,6,2,5]\n",
    "t = [7,8,5,3,1,2,3,4]\n",
    "s = {6,5,7,6,8,9,1}\n"
   ]
  },
  {
   "cell_type": "code",
   "execution_count": 322,
   "id": "c168c4ac-2d06-4f0c-b0aa-8a358741142f",
   "metadata": {},
   "outputs": [
    {
     "data": {
      "text/plain": [
       "{2, 4, 5, 6}"
      ]
     },
     "execution_count": 322,
     "metadata": {},
     "output_type": "execute_result"
    }
   ],
   "source": [
    "set(l)"
   ]
  },
  {
   "cell_type": "code",
   "execution_count": 330,
   "id": "77df6fe0-a75f-4d95-a59b-97c8f0bd8b6f",
   "metadata": {},
   "outputs": [],
   "source": [
    "m = list(t)"
   ]
  },
  {
   "cell_type": "code",
   "execution_count": 332,
   "id": "35144e75-bcc1-461c-9e3a-3758f3d18ccd",
   "metadata": {},
   "outputs": [],
   "source": [
    "m.append(33)"
   ]
  },
  {
   "cell_type": "code",
   "execution_count": 339,
   "id": "de3b5237-8d8c-4f83-a0b9-1145b3de4fab",
   "metadata": {},
   "outputs": [],
   "source": [
    "n = tuple(m)"
   ]
  },
  {
   "cell_type": "code",
   "execution_count": 341,
   "id": "176ff85a-07aa-4f45-886d-e657ea1841e6",
   "metadata": {},
   "outputs": [
    {
     "data": {
      "text/plain": [
       "(7, 8, 5, 3, 1, 2, 3, 4, 33)"
      ]
     },
     "execution_count": 341,
     "metadata": {},
     "output_type": "execute_result"
    }
   ],
   "source": [
    "n"
   ]
  },
  {
   "cell_type": "markdown",
   "id": "88fbb40b-af7b-4da5-b770-45c13821c00f",
   "metadata": {},
   "source": [
    "m"
   ]
  },
  {
   "cell_type": "code",
   "execution_count": 314,
   "id": "57b1a951-f8a2-4d17-9530-f5e6d4d10112",
   "metadata": {},
   "outputs": [
    {
     "ename": "NameError",
     "evalue": "name 'd1' is not defined",
     "output_type": "error",
     "traceback": [
      "\u001b[1;31m---------------------------------------------------------------------------\u001b[0m",
      "\u001b[1;31mNameError\u001b[0m                                 Traceback (most recent call last)",
      "Cell \u001b[1;32mIn[314], line 1\u001b[0m\n\u001b[1;32m----> 1\u001b[0m d1 \u001b[38;5;241m=\u001b[39m \u001b[38;5;28mset\u001b[39m(d1)\n",
      "\u001b[1;31mNameError\u001b[0m: name 'd1' is not defined"
     ]
    }
   ],
   "source": [
    "d1 = set(d1)"
   ]
  }
 ],
 "metadata": {
  "kernelspec": {
   "display_name": "Python 3 (ipykernel)",
   "language": "python",
   "name": "python3"
  },
  "language_info": {
   "codemirror_mode": {
    "name": "ipython",
    "version": 3
   },
   "file_extension": ".py",
   "mimetype": "text/x-python",
   "name": "python",
   "nbconvert_exporter": "python",
   "pygments_lexer": "ipython3",
   "version": "3.12.4"
  }
 },
 "nbformat": 4,
 "nbformat_minor": 5
}
