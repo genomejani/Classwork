{
 "cells": [
  {
   "cell_type": "code",
   "execution_count": 5,
   "id": "bd37318b-2663-47f4-95bd-6b1787955a23",
   "metadata": {},
   "outputs": [],
   "source": [
    "import numpy as np"
   ]
  },
  {
   "cell_type": "code",
   "execution_count": 31,
   "id": "4999b860-6880-449d-9ab9-5be96f6f7361",
   "metadata": {},
   "outputs": [],
   "source": [
    "num = np.array([56,33,12,78,52,61,25] , dtype=np.int16)"
   ]
  },
  {
   "cell_type": "code",
   "execution_count": 13,
   "id": "7d2f86f7-4f03-4062-be11-a01e4c99a1eb",
   "metadata": {},
   "outputs": [
    {
     "data": {
      "text/plain": [
       "78"
      ]
     },
     "execution_count": 13,
     "metadata": {},
     "output_type": "execute_result"
    }
   ],
   "source": [
    "num.max()"
   ]
  },
  {
   "cell_type": "code",
   "execution_count": 15,
   "id": "59bd907c-4ef7-4dee-bbff-f5abcd943b1a",
   "metadata": {},
   "outputs": [
    {
     "data": {
      "text/plain": [
       "12"
      ]
     },
     "execution_count": 15,
     "metadata": {},
     "output_type": "execute_result"
    }
   ],
   "source": [
    "num.min()"
   ]
  },
  {
   "cell_type": "code",
   "execution_count": 19,
   "id": "4d5dd835-f394-4f8f-aaa5-dd24ee2ec954",
   "metadata": {},
   "outputs": [
    {
     "data": {
      "text/plain": [
       "7"
      ]
     },
     "execution_count": 19,
     "metadata": {},
     "output_type": "execute_result"
    }
   ],
   "source": [
    "num.size"
   ]
  },
  {
   "cell_type": "code",
   "execution_count": 21,
   "id": "a055317b-1c12-4d12-ac06-f5ea557e2ee8",
   "metadata": {},
   "outputs": [],
   "source": [
    "num1 = np.array([45.67, 23.56, 78.25 , 89.03])"
   ]
  },
  {
   "cell_type": "code",
   "execution_count": 25,
   "id": "815a93ca-d07e-482e-803a-3e52a81c4c1a",
   "metadata": {},
   "outputs": [
    {
     "data": {
      "text/plain": [
       "array([45.67, 23.56, 78.25, 89.03])"
      ]
     },
     "execution_count": 25,
     "metadata": {},
     "output_type": "execute_result"
    }
   ],
   "source": [
    "num1"
   ]
  },
  {
   "cell_type": "code",
   "execution_count": 23,
   "id": "96483dfc-40f3-44fa-90c5-600324d58984",
   "metadata": {},
   "outputs": [
    {
     "data": {
      "text/plain": [
       "dtype('float64')"
      ]
     },
     "execution_count": 23,
     "metadata": {},
     "output_type": "execute_result"
    }
   ],
   "source": [
    "num1.dtype"
   ]
  },
  {
   "cell_type": "code",
   "execution_count": null,
   "id": "de9fba04-54cd-4e4f-8cfb-a1f10fc028f7",
   "metadata": {},
   "outputs": [],
   "source": [
    "dtype.num"
   ]
  },
  {
   "cell_type": "code",
   "execution_count": 33,
   "id": "9695ed60-be79-4826-a66d-8345d6ee82e9",
   "metadata": {},
   "outputs": [
    {
     "data": {
      "text/plain": [
       "array([112,  66,  24, 156, 104, 122,  50], dtype=int16)"
      ]
     },
     "execution_count": 33,
     "metadata": {},
     "output_type": "execute_result"
    }
   ],
   "source": [
    "num * 2"
   ]
  },
  {
   "cell_type": "code",
   "execution_count": 35,
   "id": "130671fd-6245-4b24-ba5e-29685d7ec305",
   "metadata": {},
   "outputs": [
    {
     "data": {
      "text/plain": [
       "array([ True, False, False,  True,  True,  True, False])"
      ]
     },
     "execution_count": 35,
     "metadata": {},
     "output_type": "execute_result"
    }
   ],
   "source": [
    "num>40"
   ]
  },
  {
   "cell_type": "code",
   "execution_count": 37,
   "id": "45538f92-888c-4bd9-b419-90ed24e98981",
   "metadata": {},
   "outputs": [
    {
     "data": {
      "text/plain": [
       "array([56, 78, 52, 61], dtype=int16)"
      ]
     },
     "execution_count": 37,
     "metadata": {},
     "output_type": "execute_result"
    }
   ],
   "source": [
    "num[num>40]   ##########filtering"
   ]
  },
  {
   "cell_type": "raw",
   "id": "785ce4f4-1a85-4d24-a922-e5bde2f6012a",
   "metadata": {},
   "source": [
    "num1.dtype"
   ]
  },
  {
   "cell_type": "markdown",
   "id": "91c5d0a4-165a-4ab0-b25d-435fea97e981",
   "metadata": {},
   "source": [
    "# 2d array"
   ]
  },
  {
   "cell_type": "code",
   "execution_count": 39,
   "id": "f418ac7f-6385-4b0a-b9ee-b47f56c1f22e",
   "metadata": {},
   "outputs": [],
   "source": [
    "M = np.array([[5,6,7], [2,4,3], [6,8,9], [0,1,3]])"
   ]
  },
  {
   "cell_type": "code",
   "execution_count": 41,
   "id": "719dc979-ffe8-44c3-8e64-4d52e829371b",
   "metadata": {},
   "outputs": [
    {
     "data": {
      "text/plain": [
       "array([[5, 6, 7],\n",
       "       [2, 4, 3],\n",
       "       [6, 8, 9],\n",
       "       [0, 1, 3]])"
      ]
     },
     "execution_count": 41,
     "metadata": {},
     "output_type": "execute_result"
    }
   ],
   "source": [
    "M"
   ]
  },
  {
   "cell_type": "code",
   "execution_count": 43,
   "id": "1e5a7f6c-b82b-4078-9e8a-7c268cf28a78",
   "metadata": {},
   "outputs": [
    {
     "data": {
      "text/plain": [
       "2"
      ]
     },
     "execution_count": 43,
     "metadata": {},
     "output_type": "execute_result"
    }
   ],
   "source": [
    "M.ndim"
   ]
  },
  {
   "cell_type": "code",
   "execution_count": 45,
   "id": "a855b073-485a-41ff-bb4f-f6503dbb576b",
   "metadata": {},
   "outputs": [
    {
     "data": {
      "text/plain": [
       "(4, 3)"
      ]
     },
     "execution_count": 45,
     "metadata": {},
     "output_type": "execute_result"
    }
   ],
   "source": [
    "M.shape"
   ]
  },
  {
   "cell_type": "code",
   "execution_count": 47,
   "id": "fd8f3e04-89c6-4320-b5de-ab40ee222719",
   "metadata": {},
   "outputs": [
    {
     "data": {
      "text/plain": [
       "12"
      ]
     },
     "execution_count": 47,
     "metadata": {},
     "output_type": "execute_result"
    }
   ],
   "source": [
    "M.size"
   ]
  },
  {
   "cell_type": "code",
   "execution_count": 49,
   "id": "d28c56b5-49ed-4ed5-88a9-f7b8a8468a70",
   "metadata": {},
   "outputs": [
    {
     "data": {
      "text/plain": [
       "6"
      ]
     },
     "execution_count": 49,
     "metadata": {},
     "output_type": "execute_result"
    }
   ],
   "source": [
    "M[0][1]"
   ]
  },
  {
   "cell_type": "code",
   "execution_count": 51,
   "id": "ff842dc1-6d9f-4453-837b-80e113d532c0",
   "metadata": {},
   "outputs": [
    {
     "data": {
      "text/plain": [
       "6"
      ]
     },
     "execution_count": 51,
     "metadata": {},
     "output_type": "execute_result"
    }
   ],
   "source": [
    "M[0,1]"
   ]
  },
  {
   "cell_type": "code",
   "execution_count": 53,
   "id": "a526b9ff-9aca-4d0c-8c8c-58e82c9eca36",
   "metadata": {},
   "outputs": [],
   "source": [
    "M[0,1] =8"
   ]
  },
  {
   "cell_type": "code",
   "execution_count": 55,
   "id": "ce54fdba-4952-44e8-bb3d-4d8f84d41294",
   "metadata": {},
   "outputs": [
    {
     "data": {
      "text/plain": [
       "array([[5, 8, 7],\n",
       "       [2, 4, 3],\n",
       "       [6, 8, 9],\n",
       "       [0, 1, 3]])"
      ]
     },
     "execution_count": 55,
     "metadata": {},
     "output_type": "execute_result"
    }
   ],
   "source": [
    "M"
   ]
  },
  {
   "cell_type": "code",
   "execution_count": 63,
   "id": "07e4d1c9-86ec-496f-849b-d23495e29b65",
   "metadata": {},
   "outputs": [
    {
     "data": {
      "text/plain": [
       "array([[5, 2, 6, 0],\n",
       "       [8, 4, 8, 1],\n",
       "       [7, 3, 9, 3]])"
      ]
     },
     "execution_count": 63,
     "metadata": {},
     "output_type": "execute_result"
    }
   ],
   "source": [
    "M.transpose()"
   ]
  },
  {
   "cell_type": "code",
   "execution_count": 59,
   "id": "cc925c06-f4ad-40aa-82cc-1c8aef59e299",
   "metadata": {},
   "outputs": [
    {
     "data": {
      "text/plain": [
       "array([[5, 8, 7],\n",
       "       [2, 4, 3],\n",
       "       [6, 8, 9],\n",
       "       [0, 1, 3]])"
      ]
     },
     "execution_count": 59,
     "metadata": {},
     "output_type": "execute_result"
    }
   ],
   "source": [
    "M"
   ]
  },
  {
   "cell_type": "code",
   "execution_count": 61,
   "id": "3dd413ec-319b-4692-b849-79961e671356",
   "metadata": {},
   "outputs": [
    {
     "data": {
      "text/plain": [
       "array([[5, 2, 6, 0],\n",
       "       [8, 4, 8, 1],\n",
       "       [7, 3, 9, 3]])"
      ]
     },
     "execution_count": 61,
     "metadata": {},
     "output_type": "execute_result"
    }
   ],
   "source": [
    "M.T"
   ]
  },
  {
   "cell_type": "code",
   "execution_count": 65,
   "id": "4c144f38-027d-4e26-b33b-8454164dc815",
   "metadata": {},
   "outputs": [
    {
     "data": {
      "text/plain": [
       "array([[5, 8],\n",
       "       [7, 2],\n",
       "       [4, 3],\n",
       "       [6, 8],\n",
       "       [9, 0],\n",
       "       [1, 3]])"
      ]
     },
     "execution_count": 65,
     "metadata": {},
     "output_type": "execute_result"
    }
   ],
   "source": [
    "M.reshape(6,2)"
   ]
  },
  {
   "cell_type": "code",
   "execution_count": 67,
   "id": "88512f6f-e63e-4e9c-a466-35bac2161402",
   "metadata": {},
   "outputs": [
    {
     "data": {
      "text/plain": [
       "array([5, 8, 7, 2, 4, 3, 6, 8, 9, 0, 1, 3])"
      ]
     },
     "execution_count": 67,
     "metadata": {},
     "output_type": "execute_result"
    }
   ],
   "source": [
    "M.flatten()"
   ]
  },
  {
   "cell_type": "code",
   "execution_count": 69,
   "id": "ce591466-4e16-4021-9ba1-4f8c35c0a481",
   "metadata": {},
   "outputs": [
    {
     "data": {
      "text/plain": [
       "array([5, 8, 7, 2, 4, 3, 6, 8, 9, 0, 1, 3])"
      ]
     },
     "execution_count": 69,
     "metadata": {},
     "output_type": "execute_result"
    }
   ],
   "source": [
    "M.reshape(12)"
   ]
  },
  {
   "cell_type": "code",
   "execution_count": 71,
   "id": "0f146116-2e15-485d-bd5e-a3555e337c07",
   "metadata": {},
   "outputs": [
    {
     "data": {
      "text/plain": [
       "array([5, 8, 7, 2, 4, 3, 6, 8, 9, 0, 1, 3])"
      ]
     },
     "execution_count": 71,
     "metadata": {},
     "output_type": "execute_result"
    }
   ],
   "source": [
    "M.reshape(-1)"
   ]
  },
  {
   "cell_type": "code",
   "execution_count": 73,
   "id": "e778e438-de75-4a2e-90ee-d9dbd3f83e03",
   "metadata": {},
   "outputs": [
    {
     "data": {
      "text/plain": [
       "array([[5, 8, 7, 2],\n",
       "       [4, 3, 6, 8],\n",
       "       [9, 0, 1, 3]])"
      ]
     },
     "execution_count": 73,
     "metadata": {},
     "output_type": "execute_result"
    }
   ],
   "source": [
    "M.reshape(-1,4)"
   ]
  },
  {
   "cell_type": "code",
   "execution_count": null,
   "id": "a253d317-ebdc-40a6-b8c3-9ffb63a41e8d",
   "metadata": {},
   "outputs": [],
   "source": []
  }
 ],
 "metadata": {
  "kernelspec": {
   "display_name": "Python 3 (ipykernel)",
   "language": "python",
   "name": "python3"
  },
  "language_info": {
   "codemirror_mode": {
    "name": "ipython",
    "version": 3
   },
   "file_extension": ".py",
   "mimetype": "text/x-python",
   "name": "python",
   "nbconvert_exporter": "python",
   "pygments_lexer": "ipython3",
   "version": "3.12.4"
  }
 },
 "nbformat": 4,
 "nbformat_minor": 5
}
