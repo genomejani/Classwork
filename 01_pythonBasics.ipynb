{
 "cells": [
  {
   "cell_type": "code",
   "execution_count": 1,
   "id": "c6087644-f31f-4464-bb0e-9354a3da4466",
   "metadata": {},
   "outputs": [
    {
     "name": "stdout",
     "output_type": "stream",
     "text": [
      "hello world\n"
     ]
    }
   ],
   "source": [
    "print('hello world')"
   ]
  },
  {
   "cell_type": "code",
   "execution_count": 5,
   "id": "455fcd92-c63a-4b27-b21c-ac176ea4c892",
   "metadata": {},
   "outputs": [
    {
     "name": "stdout",
     "output_type": "stream",
     "text": [
      "hello world1\n",
      "hello world2\n",
      "hello world3\n"
     ]
    }
   ],
   "source": [
    "print('hello world1')\n",
    "print('hello world2')\n",
    "print('hello world3')"
   ]
  },
  {
   "cell_type": "code",
   "execution_count": 7,
   "id": "9fa0d757-53ee-4447-83b7-909b8272b81b",
   "metadata": {},
   "outputs": [
    {
     "name": "stdout",
     "output_type": "stream",
     "text": [
      "hi\n"
     ]
    }
   ],
   "source": [
    "print(\"hi\")\n"
   ]
  },
  {
   "cell_type": "code",
   "execution_count": 13,
   "id": "da26f71e-5c17-43be-b394-8524d54245bb",
   "metadata": {},
   "outputs": [
    {
     "name": "stdout",
     "output_type": "stream",
     "text": [
      "100\n",
      "145\n"
     ]
    }
   ],
   "source": [
    "num1=45\n",
    "num2=55\n",
    "add = num1+num2\n",
    "print(add)\n",
    "print(add+num1)"
   ]
  },
  {
   "cell_type": "code",
   "execution_count": 15,
   "id": "339a8961-52fb-47d5-9854-0a631ae49f24",
   "metadata": {},
   "outputs": [
    {
     "data": {
      "text/plain": [
       "int"
      ]
     },
     "execution_count": 15,
     "metadata": {},
     "output_type": "execute_result"
    }
   ],
   "source": [
    "num1-5\n",
    "type(num1)"
   ]
  },
  {
   "cell_type": "code",
   "execution_count": 17,
   "id": "9425bbe6-4903-4f88-9f24-1e65e2088ca3",
   "metadata": {},
   "outputs": [
    {
     "data": {
      "text/plain": [
       "float"
      ]
     },
     "execution_count": 17,
     "metadata": {},
     "output_type": "execute_result"
    }
   ],
   "source": [
    "num1 =66.33\n",
    "type(num1)"
   ]
  },
  {
   "cell_type": "code",
   "execution_count": 27,
   "id": "af3b5341-5283-47d6-84a5-e533ce613de7",
   "metadata": {
    "scrolled": true
   },
   "outputs": [
    {
     "data": {
      "text/plain": [
       "float"
      ]
     },
     "execution_count": 27,
     "metadata": {},
     "output_type": "execute_result"
    }
   ],
   "source": [
    "num1 =88.22\n",
    "type(num1)"
   ]
  },
  {
   "cell_type": "code",
   "execution_count": 33,
   "id": "dd6080d1-18a9-417e-bf35-a8acfa40a296",
   "metadata": {},
   "outputs": [
    {
     "data": {
      "text/plain": [
       "str"
      ]
     },
     "execution_count": 33,
     "metadata": {},
     "output_type": "execute_result"
    }
   ],
   "source": [
    "name =\"deepali\"\n",
    "type(name)"
   ]
  },
  {
   "cell_type": "code",
   "execution_count": 39,
   "id": "22c62183-972d-481e-bd67-fa3977a9f24c",
   "metadata": {},
   "outputs": [
    {
     "name": "stdout",
     "output_type": "stream",
     "text": [
      "44\n",
      "abc\n",
      "34.54\n"
     ]
    }
   ],
   "source": [
    "num1,num2,num3 =44,\"abc\",34.54\n",
    "print(num1)\n",
    "print(num2)\n",
    "print(num3)"
   ]
  },
  {
   "cell_type": "code",
   "execution_count": 41,
   "id": "f02759b8-f360-40e6-a061-1b82f11f9347",
   "metadata": {},
   "outputs": [
    {
     "name": "stdout",
     "output_type": "stream",
     "text": [
      "44\n",
      "44\n",
      "44\n"
     ]
    }
   ],
   "source": [
    "num1 = num2 = num3 =44\n",
    "print(num1)\n",
    "print(num2)\n",
    "print(num3)"
   ]
  },
  {
   "cell_type": "code",
   "execution_count": 69,
   "id": "98391ea2-ea92-46bd-bd84-19b2c4f00a79",
   "metadata": {},
   "outputs": [
    {
     "name": "stdout",
     "output_type": "stream",
     "text": [
      "my name id deepali having marks 80.87\n",
      "44 abc 34.54\n"
     ]
    }
   ],
   "source": [
    "name =\"deepali\"\n",
    "marks =80.87\n",
    "print (\"my name id\",name,\"having marks\",marks)\n",
    "num1,num2,num3 =44,\"abc\",34.54\n",
    "print(num1,num2,num3)"
   ]
  },
  {
   "cell_type": "code",
   "execution_count": 51,
   "id": "d9825711-0b7d-4c25-aa2e-7fe3cceb7fc2",
   "metadata": {},
   "outputs": [
    {
     "name": "stdout",
     "output_type": "stream",
     "text": [
      "my name id deepali having marks 80.000000\n"
     ]
    }
   ],
   "source": [
    "print (\"my name id %s having marks %f\" %(name,marks))"
   ]
  },
  {
   "cell_type": "code",
   "execution_count": 61,
   "id": "2d5edca9-b38a-4641-bc73-a0d70c3732a9",
   "metadata": {},
   "outputs": [
    {
     "name": "stdout",
     "output_type": "stream",
     "text": [
      "my name id deepali having marks 80.230000 and role no is 44\n"
     ]
    }
   ],
   "source": [
    "print (\"my name id %s having marks %f and role no is %i\" %(name,marks,num1))\n"
   ]
  },
  {
   "cell_type": "code",
   "execution_count": 71,
   "id": "4bfa8cc4-fe13-4d9f-a536-905b511713cf",
   "metadata": {},
   "outputs": [
    {
     "name": "stdout",
     "output_type": "stream",
     "text": [
      "my name id deepali having marks 80.9\n"
     ]
    }
   ],
   "source": [
    "print (\"my name id %s having marks %.1f\" %(name,marks))"
   ]
  },
  {
   "cell_type": "code",
   "execution_count": 73,
   "id": "c38187c1-f03c-429a-8129-761aeeaab953",
   "metadata": {},
   "outputs": [
    {
     "name": "stdout",
     "output_type": "stream",
     "text": [
      "my name id deepali having marks 80\n"
     ]
    }
   ],
   "source": [
    "print (\"my name id %s having marks %i\" %(name,marks))"
   ]
  },
  {
   "cell_type": "code",
   "execution_count": 75,
   "id": "dcfad1c0-671a-4bbf-9a17-aecf60287376",
   "metadata": {},
   "outputs": [
    {
     "name": "stdout",
     "output_type": "stream",
     "text": [
      "100\n"
     ]
    }
   ],
   "source": [
    "#documentation for program\n",
    "num1=45 #number1\n",
    "num2=55 #number1\n",
    "add = num1+num2 #addition of number1 and number1\n",
    "print(add)"
   ]
  },
  {
   "cell_type": "code",
   "execution_count": 83,
   "id": "90d88972-a640-49f3-ac84-f6ef2a4141e5",
   "metadata": {},
   "outputs": [
    {
     "name": "stdout",
     "output_type": "stream",
     "text": [
      "100\n"
     ]
    }
   ],
   "source": [
    "num1=45; num2=55;add = num1+num2;print(add)\n"
   ]
  },
  {
   "cell_type": "markdown",
   "id": "0530dcef-4a36-4d83-8f99-69cefe2947f5",
   "metadata": {},
   "source": [
    "## Operators\n",
    "#### 1. Arithmatic"
   ]
  },
  {
   "cell_type": "code",
   "execution_count": 94,
   "id": "cffad5f0-6bc5-4832-be27-ea3abe029445",
   "metadata": {},
   "outputs": [
    {
     "name": "stdout",
     "output_type": "stream",
     "text": [
      "Addition is 70\n",
      "subtraction is 30\n",
      "multiplication is 1000\n",
      "division is 2.5\n",
      "floor division is 2\n",
      "modulo division is 10\n",
      "raised to 9536743164062500000000000000000000\n"
     ]
    }
   ],
   "source": [
    "num1 =20\n",
    "num2 =50\n",
    "add = num1 +num2 #addition\n",
    "print ('Addition is',add)\n",
    "print ('subtraction is' ,num2-num1)\n",
    "print ('multiplication is' ,num2*num1)\n",
    "print ('division is' ,num2/num1)\n",
    "print ('floor division is' ,num2//num1)\n",
    "print ('modulo division is' ,num2%num1)\n",
    "print ('raised to' ,num2 **num1) #power of"
   ]
  },
  {
   "cell_type": "markdown",
   "id": "f2847393-4813-444d-8508-180590538bef",
   "metadata": {},
   "source": [
    "#### 2. Assignment operator"
   ]
  },
  {
   "cell_type": "code",
   "execution_count": 116,
   "id": "b367b211-05ad-4f39-9033-1b8a984f1ad8",
   "metadata": {},
   "outputs": [
    {
     "name": "stdout",
     "output_type": "stream",
     "text": [
      "69\n",
      "67\n",
      "134\n",
      "33.5\n",
      "8.0\n"
     ]
    }
   ],
   "source": [
    "num1 =67\n",
    "num1+=2\n",
    "print(num1)\n",
    "num1-=2\n",
    "print(num1)\n",
    "num1 *=2\n",
    "print(num1)\n",
    "num1 /=4\n",
    "print(num1)\n",
    "num1 //=4\n",
    "print(num1)"
   ]
  },
  {
   "cell_type": "markdown",
   "id": "ea67dac3-91a3-48bd-93e1-87eaed9b6d77",
   "metadata": {},
   "source": [
    "#### 3. Relational operator"
   ]
  },
  {
   "cell_type": "code",
   "execution_count": 125,
   "id": "6e655a96-71cc-4767-a3a0-138a95305c1d",
   "metadata": {},
   "outputs": [
    {
     "name": "stdout",
     "output_type": "stream",
     "text": [
      "Greater than: True\n",
      "Greater than and equal : True\n",
      "less than: False\n",
      "less than and equal: False\n",
      "equal: False\n",
      "not equal: True\n"
     ]
    }
   ],
   "source": [
    "num1 =70\n",
    "num2 =50\n",
    "print( 'Greater than:', num1>num2)\n",
    "print( 'Greater than and equal :', num1>=num2)\n",
    "print( 'less than:', num1<num2)\n",
    "print( 'less than and equal:', num1<=num2)\n",
    "print( 'equal:', num1==num2)\n",
    "print( 'not equal:', num1!=num2)"
   ]
  },
  {
   "cell_type": "markdown",
   "id": "f7fb1416-9645-442f-826c-48c34fce00ea",
   "metadata": {},
   "source": [
    "#### 4. logical operator"
   ]
  },
  {
   "cell_type": "code",
   "execution_count": 131,
   "id": "c7a3cbd2-6c22-472f-873f-b55467fae3ad",
   "metadata": {},
   "outputs": [
    {
     "name": "stdout",
     "output_type": "stream",
     "text": [
      "AND: True\n"
     ]
    }
   ],
   "source": [
    "num1 =70\n",
    "num2 =50\n",
    "print( 'AND:', (num1>num2) and (num1<100))"
   ]
  },
  {
   "cell_type": "code",
   "execution_count": 133,
   "id": "934a716d-98fa-4e48-8448-691414a0b00a",
   "metadata": {},
   "outputs": [
    {
     "name": "stdout",
     "output_type": "stream",
     "text": [
      "OR: True\n"
     ]
    }
   ],
   "source": [
    "\n",
    "print( 'OR:', (num1>num2) and (num1<100))"
   ]
  },
  {
   "cell_type": "markdown",
   "id": "6abafe64-881a-4ac9-bda9-3ecc59ec979e",
   "metadata": {},
   "source": [
    "#### 5. membership selection operator used for searching"
   ]
  },
  {
   "cell_type": "code",
   "execution_count": 142,
   "id": "896a2f73-9591-45a0-8231-9f038de82056",
   "metadata": {},
   "outputs": [
    {
     "data": {
      "text/plain": [
       "True"
      ]
     },
     "execution_count": 142,
     "metadata": {},
     "output_type": "execute_result"
    }
   ],
   "source": [
    "name =\"deepali\"\n",
    "'i' in name"
   ]
  },
  {
   "cell_type": "code",
   "execution_count": 146,
   "id": "7f589732-dbdd-4f50-b1df-d49af83862ca",
   "metadata": {},
   "outputs": [
    {
     "data": {
      "text/plain": [
       "True"
      ]
     },
     "execution_count": 146,
     "metadata": {},
     "output_type": "execute_result"
    }
   ],
   "source": [
    "x =[5,7,2,6,9]\n",
    "2 in x"
   ]
  },
  {
   "cell_type": "code",
   "execution_count": 148,
   "id": "4aaa460d-d103-49fb-8cca-f70e4cc94412",
   "metadata": {},
   "outputs": [
    {
     "data": {
      "text/plain": [
       "True"
      ]
     },
     "execution_count": 148,
     "metadata": {},
     "output_type": "execute_result"
    }
   ],
   "source": [
    "19 not in x"
   ]
  },
  {
   "cell_type": "code",
   "execution_count": 153,
   "id": "2b0eec52-afb6-49fe-a67d-5f7d44ff38ce",
   "metadata": {},
   "outputs": [
    {
     "data": {
      "text/plain": [
       "False"
      ]
     },
     "execution_count": 153,
     "metadata": {},
     "output_type": "execute_result"
    }
   ],
   "source": [
    "x =[5,7,2,3.6,\"deepali\",9]\n",
    "'e' in x"
   ]
  },
  {
   "cell_type": "markdown",
   "id": "0145ead8-9092-425c-a623-555b95033046",
   "metadata": {},
   "source": [
    "## user Input"
   ]
  },
  {
   "cell_type": "code",
   "execution_count": 160,
   "id": "10549275-6320-4930-8bd9-b2a799b8bf1d",
   "metadata": {},
   "outputs": [
    {
     "name": "stdin",
     "output_type": "stream",
     "text": [
      "Enter the numder: 54\n"
     ]
    },
    {
     "name": "stdout",
     "output_type": "stream",
     "text": [
      "you entered: 54\n"
     ]
    }
   ],
   "source": [
    "num = input('Enter the numder:')\n",
    "print('you entered:',num)"
   ]
  },
  {
   "cell_type": "code",
   "execution_count": 162,
   "id": "2667d24d-47b4-4e03-8808-71c10aaa4bed",
   "metadata": {},
   "outputs": [
    {
     "name": "stdin",
     "output_type": "stream",
     "text": [
      "Enter the numder: 4\n"
     ]
    },
    {
     "name": "stdout",
     "output_type": "stream",
     "text": [
      "you entered: 444\n"
     ]
    }
   ],
   "source": [
    "num = input('Enter the numder:')\n",
    "result =num*3\n",
    "print('you entered:',result)"
   ]
  },
  {
   "cell_type": "code",
   "execution_count": 175,
   "id": "c627c6fb-2391-49d2-8ef9-d8b039ea2f54",
   "metadata": {},
   "outputs": [
    {
     "name": "stdin",
     "output_type": "stream",
     "text": [
      "Enter the number: 56\n"
     ]
    },
    {
     "name": "stdout",
     "output_type": "stream",
     "text": [
      "you entered: 168\n"
     ]
    }
   ],
   "source": [
    "num = int(input('Enter the number:'))\n",
    "result =num*3\n",
    "print('you entered:',result)"
   ]
  },
  {
   "cell_type": "code",
   "execution_count": 173,
   "id": "c150eeee-9952-4f75-bdd8-c30d6c4d140a",
   "metadata": {},
   "outputs": [
    {
     "name": "stdin",
     "output_type": "stream",
     "text": [
      "Enter the number: 5\n"
     ]
    },
    {
     "name": "stdout",
     "output_type": "stream",
     "text": [
      "you entered: 15\n"
     ]
    }
   ],
   "source": [
    "num = input('Enter the number:')\n",
    "result =int(num)*3\n",
    "print('you entered:',result)"
   ]
  },
  {
   "cell_type": "code",
   "execution_count": 179,
   "id": "75cd72d1-8305-4f68-90a9-f35a0f0fee27",
   "metadata": {},
   "outputs": [
    {
     "name": "stdin",
     "output_type": "stream",
     "text": [
      "Enter the first number: 34\n",
      "Enter the second number: 56\n"
     ]
    },
    {
     "name": "stdout",
     "output_type": "stream",
     "text": [
      "multiplication is: 1904\n"
     ]
    }
   ],
   "source": [
    "num1 = int(input('Enter the first number:'))\n",
    "num2 = int(input('Enter the second number:'))\n",
    "result =num1*num2\n",
    "print('multiplication is:',result)"
   ]
  },
  {
   "cell_type": "code",
   "execution_count": 191,
   "id": "9f1f20d4-4acd-41d5-a3c5-986c9e80d603",
   "metadata": {},
   "outputs": [
    {
     "name": "stdin",
     "output_type": "stream",
     "text": [
      "Enter the temp in centigrate: 37\n"
     ]
    },
    {
     "name": "stdout",
     "output_type": "stream",
     "text": [
      "temp in farenite: 98.60000000000001\n"
     ]
    }
   ],
   "source": [
    "num1 = float(input('Enter the temp in centigrate:'))\n",
    "result =(num1*(9/5))+32\n",
    "print ( 'temp in farenite:',result )"
   ]
  },
  {
   "cell_type": "markdown",
   "id": "034a5f0c-31d4-414e-95d6-6d00a00dbe9a",
   "metadata": {},
   "source": []
  }
 ],
 "metadata": {
  "kernelspec": {
   "display_name": "Python 3 (ipykernel)",
   "language": "python",
   "name": "python3"
  },
  "language_info": {
   "codemirror_mode": {
    "name": "ipython",
    "version": 3
   },
   "file_extension": ".py",
   "mimetype": "text/x-python",
   "name": "python",
   "nbconvert_exporter": "python",
   "pygments_lexer": "ipython3",
   "version": "3.12.4"
  }
 },
 "nbformat": 4,
 "nbformat_minor": 5
}
