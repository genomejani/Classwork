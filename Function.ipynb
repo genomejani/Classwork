{
 "cells": [
  {
   "cell_type": "code",
   "execution_count": 1,
   "id": "858c9934-e926-46c9-9cbb-bef653d078ab",
   "metadata": {},
   "outputs": [
    {
     "name": "stdout",
     "output_type": "stream",
     "text": [
      "Hello World\n"
     ]
    }
   ],
   "source": [
    "def show():\n",
    "    print(\"Hello World\")\n",
    "show()"
   ]
  },
  {
   "cell_type": "code",
   "execution_count": 3,
   "id": "ff5dcb1d-bc60-4844-8b1a-b5791bd195b1",
   "metadata": {},
   "outputs": [
    {
     "name": "stdout",
     "output_type": "stream",
     "text": [
      "Hello World\n"
     ]
    }
   ],
   "source": [
    "show()"
   ]
  },
  {
   "cell_type": "code",
   "execution_count": null,
   "id": "2f053c62-be6a-4540-a3a0-16d784cca5a1",
   "metadata": {},
   "outputs": [],
   "source": [
    "###########Paramtereized functions"
   ]
  },
  {
   "cell_type": "code",
   "execution_count": 9,
   "id": "fa13d9f0-10a5-4ed1-8b6e-49874432d824",
   "metadata": {},
   "outputs": [
    {
     "name": "stdout",
     "output_type": "stream",
     "text": [
      "35\n"
     ]
    }
   ],
   "source": [
    "def square(n , m):\n",
    "    sq = n* m \n",
    "    print(sq)\n",
    "square(5 , 7)"
   ]
  },
  {
   "cell_type": "code",
   "execution_count": 13,
   "id": "9ba6c848-bb70-41d2-929a-772f19a73ed8",
   "metadata": {},
   "outputs": [],
   "source": [
    "def square(n , m):\n",
    "    sq = n* m \n",
    "    return sq\n",
    "m= square(5 , 7)\n"
   ]
  },
  {
   "cell_type": "code",
   "execution_count": 22,
   "id": "9f05ff86-2c4b-4b9b-8545-7fd141fbb42d",
   "metadata": {},
   "outputs": [
    {
     "data": {
      "text/plain": [
       "7"
      ]
     },
     "execution_count": 22,
     "metadata": {},
     "output_type": "execute_result"
    }
   ],
   "source": [
    "def compare(x , y):\n",
    "    if x > y:\n",
    "        return x\n",
    "    if x < y:\n",
    "        return y\n",
    "\n",
    "m= compare(5 , 7)\n",
    "m"
   ]
  },
  {
   "cell_type": "markdown",
   "id": "8baeb1b5-d876-44e6-928b-3936f891803e",
   "metadata": {},
   "source": []
  },
  {
   "cell_type": "code",
   "execution_count": 28,
   "id": "b7d32694-936c-45da-9d6f-d4335308ffd8",
   "metadata": {},
   "outputs": [
    {
     "name": "stdout",
     "output_type": "stream",
     "text": [
      "Square and Cube are : (9, 27)\n",
      "27\n"
     ]
    }
   ],
   "source": [
    "def calc(num):\n",
    "    sq = num*num\n",
    "    cu = sq * num\n",
    "    return(sq, cu)\n",
    "print('Square and Cube are :' , calc(3))\n",
    "m, n = calc(3)\n",
    "print(n)"
   ]
  },
  {
   "cell_type": "code",
   "execution_count": 30,
   "id": "9010462e-fe95-4a5d-ba3a-f5602aa9837d",
   "metadata": {},
   "outputs": [
    {
     "name": "stdout",
     "output_type": "stream",
     "text": [
      "Help on built-in function print in module builtins:\n",
      "\n",
      "print(*args, sep=' ', end='\\n', file=None, flush=False)\n",
      "    Prints the values to a stream, or to sys.stdout by default.\n",
      "\n",
      "    sep\n",
      "      string inserted between values, default a space.\n",
      "    end\n",
      "      string appended after the last value, default a newline.\n",
      "    file\n",
      "      a file-like object (stream); defaults to the current sys.stdout.\n",
      "    flush\n",
      "      whether to forcibly flush the stream.\n",
      "\n"
     ]
    }
   ],
   "source": [
    "help(print)"
   ]
  },
  {
   "cell_type": "code",
   "execution_count": 34,
   "id": "36de5fba-ebbd-4343-a26e-25567377b711",
   "metadata": {},
   "outputs": [
    {
     "name": "stdout",
     "output_type": "stream",
     "text": [
      "Help on method_descriptor:\n",
      "\n",
      "sort(self, /, *, key=None, reverse=False) unbound builtins.list method\n",
      "    Sort the list in ascending order and return None.\n",
      "\n",
      "    The sort is in-place (i.e. the list itself is modified) and stable (i.e. the\n",
      "    order of two equal elements is maintained).\n",
      "\n",
      "    If a key function is given, apply it once to each list item and sort them,\n",
      "    ascending or descending, according to their function values.\n",
      "\n",
      "    The reverse flag can be set to sort in descending order.\n",
      "\n"
     ]
    }
   ],
   "source": [
    "help(list.sort)"
   ]
  },
  {
   "cell_type": "code",
   "execution_count": 44,
   "id": "dfa9ee01-b5a9-4a94-92f1-081b1887c8bf",
   "metadata": {},
   "outputs": [],
   "source": [
    "#########Default Parameters #############"
   ]
  },
  {
   "cell_type": "code",
   "execution_count": 36,
   "id": "a3a10881-b32c-40b3-bde4-0c6e3941f2ed",
   "metadata": {},
   "outputs": [],
   "source": [
    "def add(x=5, y=7, z=3):\n",
    "    a = x+y+z\n",
    "    return a"
   ]
  },
  {
   "cell_type": "code",
   "execution_count": 42,
   "id": "fc05034c-2e4c-4598-b364-573dc259fb36",
   "metadata": {},
   "outputs": [
    {
     "name": "stdout",
     "output_type": "stream",
     "text": [
      "Call-1 12\n",
      "Call-2 13\n",
      "Call-3 15\n"
     ]
    }
   ],
   "source": [
    "print('Call-1', add(4,6,2))\n",
    "print('Call-2', add(4,6))\n",
    "print('Call-3', add())"
   ]
  },
  {
   "cell_type": "code",
   "execution_count": 50,
   "id": "8997e20d-6076-4040-9cac-0c076e5b578b",
   "metadata": {},
   "outputs": [
    {
     "name": "stdout",
     "output_type": "stream",
     "text": [
      "Call-3 18\n"
     ]
    }
   ],
   "source": [
    "print('Call-3', add(z=6))  #######Key word argument"
   ]
  }
 ],
 "metadata": {
  "kernelspec": {
   "display_name": "Python 3 (ipykernel)",
   "language": "python",
   "name": "python3"
  },
  "language_info": {
   "codemirror_mode": {
    "name": "ipython",
    "version": 3
   },
   "file_extension": ".py",
   "mimetype": "text/x-python",
   "name": "python",
   "nbconvert_exporter": "python",
   "pygments_lexer": "ipython3",
   "version": "3.12.4"
  }
 },
 "nbformat": 4,
 "nbformat_minor": 5
}
