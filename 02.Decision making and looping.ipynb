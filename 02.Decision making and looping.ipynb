{
 "cells": [
  {
   "cell_type": "code",
   "execution_count": 11,
   "id": "38a7c154-91de-4a1e-ab05-7a6bfc563492",
   "metadata": {},
   "outputs": [
    {
     "name": "stdin",
     "output_type": "stream",
     "text": [
      "enter the number: 5\n"
     ]
    },
    {
     "name": "stdout",
     "output_type": "stream",
     "text": [
      "number is positive\n",
      "if\n",
      "bye\n"
     ]
    }
   ],
   "source": [
    "num = int(input(\"enter the number:\"))\n",
    "if num>0:\n",
    "    print('number is positive')\n",
    "    print('if') #execute for if\n",
    "else:\n",
    "    print('number is negative')\n",
    "    print('end if') #execute in else\n",
    "print('bye')#execute for all case"
   ]
  },
  {
   "cell_type": "code",
   "execution_count": 23,
   "id": "92e06854-9256-43df-a18b-4a18bc7cecf2",
   "metadata": {},
   "outputs": [
    {
     "name": "stdin",
     "output_type": "stream",
     "text": [
      "enter the number: 4\n"
     ]
    },
    {
     "name": "stdout",
     "output_type": "stream",
     "text": [
      "number is positive\n"
     ]
    }
   ],
   "source": [
    "num = int(input(\"enter the number:\"))\n",
    "if num>0:           #compulsary,condition, non-repeatable\n",
    "    print('number is positive')\n",
    "elif num==0:        #optional ,condition, repeatable\n",
    "    print('number is zero')\n",
    "else:               #optional,no condition, non-repeatable\n",
    "    print('number is negative')\n",
    "     \n",
    " "
   ]
  },
  {
   "cell_type": "code",
   "execution_count": 39,
   "id": "ee46e873-2e70-4493-a14f-eb1ccff9aa21",
   "metadata": {},
   "outputs": [
    {
     "name": "stdin",
     "output_type": "stream",
     "text": [
      "enter the number: 0\n"
     ]
    },
    {
     "name": "stdout",
     "output_type": "stream",
     "text": [
      "number is zero\n"
     ]
    }
   ],
   "source": [
    "num = int(input(\"enter the number:\"))\n",
    "if num==0:       \n",
    "    print('number is zero')\n",
    "elif num%2==0:           \n",
    "    print('number is even')\n",
    "else:               \n",
    "    print('number is odd')"
   ]
  },
  {
   "cell_type": "markdown",
   "id": "d20be4b1-882a-4668-a2fd-11ca8719dc40",
   "metadata": {},
   "source": [
    "## while loop"
   ]
  },
  {
   "cell_type": "code",
   "execution_count": 41,
   "id": "ad450ddb-f360-4f51-b27a-5d8f95409aee",
   "metadata": {},
   "outputs": [
    {
     "name": "stdout",
     "output_type": "stream",
     "text": [
      "deepali\n",
      "deepali\n",
      "deepali\n",
      "deepali\n",
      "deepali\n",
      "deepali\n",
      "deepali\n",
      "deepali\n",
      "deepali\n",
      "deepali\n"
     ]
    }
   ],
   "source": [
    "count =0\n",
    "while count<10:\n",
    "    print(\"deepali\")\n",
    "    count+=1"
   ]
  },
  {
   "cell_type": "code",
   "execution_count": 44,
   "id": "a59f0187-4192-44c7-8e55-d08c4ecc0b74",
   "metadata": {},
   "outputs": [
    {
     "name": "stdout",
     "output_type": "stream",
     "text": [
      "11\n",
      "12\n",
      "13\n",
      "14\n",
      "15\n",
      "16\n",
      "17\n",
      "18\n",
      "19\n",
      "20\n"
     ]
    }
   ],
   "source": [
    "count =11\n",
    "while count<=20:\n",
    "    print(count)\n",
    "    count+=1"
   ]
  },
  {
   "cell_type": "code",
   "execution_count": 54,
   "id": "82818ec7-6e94-48da-a3a2-0b033f4937ab",
   "metadata": {},
   "outputs": [
    {
     "name": "stdout",
     "output_type": "stream",
     "text": [
      "100\n"
     ]
    }
   ],
   "source": [
    "count = 0\n",
    "result =0\n",
    "num =1\n",
    "while(count<10):\n",
    "    result +=num\n",
    "    num+=2\n",
    "    count+=1\n",
    "\n",
    "print(result)"
   ]
  },
  {
   "cell_type": "markdown",
   "id": "f824467e-eb99-459b-97ab-4e07fc1e5e57",
   "metadata": {},
   "source": [
    "## for loop\n"
   ]
  },
  {
   "cell_type": "code",
   "execution_count": 59,
   "id": "ba81df37-e608-40ff-8288-aeb878ee75a3",
   "metadata": {},
   "outputs": [
    {
     "name": "stdout",
     "output_type": "stream",
     "text": [
      "23\n",
      "45\n",
      "68\n",
      "24\n",
      "1\n"
     ]
    }
   ],
   "source": [
    "for i in 23,45,68,24,1:\n",
    "    print(i)"
   ]
  },
  {
   "cell_type": "code",
   "execution_count": 61,
   "id": "1313bc19-4524-4684-9a33-95d66c73d630",
   "metadata": {},
   "outputs": [
    {
     "name": "stdout",
     "output_type": "stream",
     "text": [
      "529\n",
      "2025\n",
      "4624\n",
      "576\n",
      "1\n"
     ]
    }
   ],
   "source": [
    "for i in 23,45,68,24,1:\n",
    "    print(i * i)"
   ]
  },
  {
   "cell_type": "code",
   "execution_count": 65,
   "id": "fa9462c0-f572-4e84-aca0-68063baa43a3",
   "metadata": {},
   "outputs": [
    {
     "name": "stdout",
     "output_type": "stream",
     "text": [
      "11.5\n",
      "22.5\n",
      "34.0\n",
      "12.0\n",
      "0.5\n"
     ]
    }
   ],
   "source": [
    "num = [23,45,68,24,1]\n",
    "for i in num:\n",
    "    print(i/2)"
   ]
  },
  {
   "cell_type": "code",
   "execution_count": 69,
   "id": "8ac63328-063e-48a0-a1cf-4d013a363566",
   "metadata": {},
   "outputs": [
    {
     "name": "stdout",
     "output_type": "stream",
     "text": [
      "CCCCCCCCCCCCCCCCCCCCCCCCCCCCCCCCCCCCCCCCCCCCCCCCCC\n",
      "--------------------------------------------------\n",
      "DDDDDDDDDDDDDDDDDDDDDDDDDDDDDDDDDDDDDDDDDDDDDDDDDD\n",
      "AAAAAAAAAAAAAAAAAAAAAAAAAAAAAAAAAAAAAAAAAAAAAAAAAA\n",
      "CCCCCCCCCCCCCCCCCCCCCCCCCCCCCCCCCCCCCCCCCCCCCCCCCC\n"
     ]
    }
   ],
   "source": [
    "name ='C-DAC'\n",
    "for c in name:\n",
    "    print(c*50)"
   ]
  },
  {
   "cell_type": "code",
   "execution_count": 76,
   "id": "5381bfee-571d-40aa-8d4c-741b25c931fe",
   "metadata": {},
   "outputs": [
    {
     "data": {
      "text/plain": [
       "[0, 1, 2, 3, 4, 5, 6, 7, 8, 9]"
      ]
     },
     "execution_count": 76,
     "metadata": {},
     "output_type": "execute_result"
    }
   ],
   "source": [
    "list(range(10))"
   ]
  },
  {
   "cell_type": "code",
   "execution_count": 78,
   "id": "5dce54ae-f0bf-4b81-9009-b1d4de5bf9bb",
   "metadata": {},
   "outputs": [
    {
     "data": {
      "text/plain": [
       "[4, 5, 6, 7, 8, 9]"
      ]
     },
     "execution_count": 78,
     "metadata": {},
     "output_type": "execute_result"
    }
   ],
   "source": [
    "list(range(4,10))"
   ]
  },
  {
   "cell_type": "code",
   "execution_count": 84,
   "id": "115de765-6b0c-4b32-848b-1157e6ea1988",
   "metadata": {},
   "outputs": [
    {
     "data": {
      "text/plain": [
       "[4, 6, 8]"
      ]
     },
     "execution_count": 84,
     "metadata": {},
     "output_type": "execute_result"
    }
   ],
   "source": [
    "list(range(4,10,2))"
   ]
  },
  {
   "cell_type": "code",
   "execution_count": 82,
   "id": "862a074d-ba37-4c74-93f2-76328996ac2a",
   "metadata": {},
   "outputs": [
    {
     "name": "stdout",
     "output_type": "stream",
     "text": [
      "1\n",
      "4\n",
      "9\n",
      "16\n",
      "25\n"
     ]
    }
   ],
   "source": [
    "for n in range(1,6):\n",
    "    print(n*n)"
   ]
  },
  {
   "cell_type": "code",
   "execution_count": 90,
   "id": "e8f48102-1fa8-476d-ba0b-b56b92474a88",
   "metadata": {},
   "outputs": [
    {
     "name": "stdout",
     "output_type": "stream",
     "text": [
      "deepali\n",
      "deepali\n",
      "deepali\n",
      "deepali\n",
      "deepali\n",
      "deepali\n",
      "deepali\n",
      "deepali\n",
      "deepali\n",
      "deepali\n"
     ]
    }
   ],
   "source": [
    "for n in range(10):\n",
    "    print(\"deepali\")"
   ]
  },
  {
   "cell_type": "code",
   "execution_count": 106,
   "id": "d54b87a3-e672-4fff-8d52-2d773d58dde5",
   "metadata": {},
   "outputs": [
    {
     "name": "stdout",
     "output_type": "stream",
     "text": [
      "55\n"
     ]
    }
   ],
   "source": [
    "add =0\n",
    "for num in range(1,11):\n",
    "    add+=num\n",
    "\n",
    "print(add)"
   ]
  },
  {
   "cell_type": "code",
   "execution_count": 104,
   "id": "642341ed-24c3-40f2-ad9e-0d7bbe15101d",
   "metadata": {},
   "outputs": [
    {
     "name": "stdout",
     "output_type": "stream",
     "text": [
      "100\n"
     ]
    }
   ],
   "source": [
    "add =0\n",
    "for num in range(1,20,2):\n",
    "   add+=num\n",
    "\n",
    "print(add)"
   ]
  },
  {
   "cell_type": "code",
   "execution_count": 110,
   "id": "59b155ef-60f6-4906-879d-e80672211e82",
   "metadata": {},
   "outputs": [
    {
     "data": {
      "text/plain": [
       "55"
      ]
     },
     "execution_count": 110,
     "metadata": {},
     "output_type": "execute_result"
    }
   ],
   "source": [
    "sum(range(11))"
   ]
  },
  {
   "cell_type": "code",
   "execution_count": 112,
   "id": "3974330c-22f6-4c43-8306-0a4a0ce43cee",
   "metadata": {},
   "outputs": [
    {
     "data": {
      "text/plain": [
       "100"
      ]
     },
     "execution_count": 112,
     "metadata": {},
     "output_type": "execute_result"
    }
   ],
   "source": [
    "sum(range(1,20,2))"
   ]
  },
  {
   "cell_type": "markdown",
   "id": "eb22b73f-7665-4619-aaea-fbae0b7a6dd9",
   "metadata": {},
   "source": [
    "## break statement"
   ]
  },
  {
   "cell_type": "code",
   "execution_count": 115,
   "id": "de465b96-1a2e-4239-a761-d00e24d3d6d3",
   "metadata": {},
   "outputs": [
    {
     "name": "stdout",
     "output_type": "stream",
     "text": [
      "0\n",
      "1\n",
      "2\n",
      "3\n",
      "4\n"
     ]
    }
   ],
   "source": [
    "for i in range(10):\n",
    "    if i==5:\n",
    "        break\n",
    "    print(i)"
   ]
  },
  {
   "cell_type": "markdown",
   "id": "2a8171e2-60f4-45ab-973e-8c12fb6c6027",
   "metadata": {},
   "source": [
    "## continue statement"
   ]
  },
  {
   "cell_type": "code",
   "execution_count": 117,
   "id": "145c7e05-3bfb-4866-995b-5516bf6cb207",
   "metadata": {},
   "outputs": [
    {
     "name": "stdout",
     "output_type": "stream",
     "text": [
      "0\n",
      "1\n",
      "2\n",
      "3\n",
      "4\n",
      "6\n",
      "7\n",
      "8\n",
      "9\n"
     ]
    }
   ],
   "source": [
    "for i in range(10):\n",
    "    if i==5:\n",
    "        continue\n",
    "    print(i)"
   ]
  },
  {
   "cell_type": "code",
   "execution_count": null,
   "id": "2112a598-7005-435a-b821-dc04497e6bd0",
   "metadata": {},
   "outputs": [],
   "source": []
  }
 ],
 "metadata": {
  "kernelspec": {
   "display_name": "Python 3 (ipykernel)",
   "language": "python",
   "name": "python3"
  },
  "language_info": {
   "codemirror_mode": {
    "name": "ipython",
    "version": 3
   },
   "file_extension": ".py",
   "mimetype": "text/x-python",
   "name": "python",
   "nbconvert_exporter": "python",
   "pygments_lexer": "ipython3",
   "version": "3.12.4"
  }
 },
 "nbformat": 4,
 "nbformat_minor": 5
}
