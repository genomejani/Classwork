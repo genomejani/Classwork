{
 "cells": [
  {
   "cell_type": "code",
   "execution_count": 46,
   "id": "256ef7af-7a4f-429f-9fdd-cf7fb5a55a49",
   "metadata": {},
   "outputs": [],
   "source": [
    "class Person:  ##########class name ##################\n",
    "  def __init__(self, n, a):  ############# Constructor #############\n",
    "    self.name = n            ########self.name instance variable, seperate copy created for seperate object\n",
    "    self.age = a\n",
    "\n",
    "  def show(self):                 ########function/behaviour\n",
    "     print('My data:' , self.name, self.age)"
   ]
  },
  {
   "cell_type": "code",
   "execution_count": 48,
   "id": "dd498d9e-c083-4371-9bf0-b399def05c04",
   "metadata": {},
   "outputs": [],
   "source": [
    "#create the object\n",
    "ob1 = Person(\"Vinod\", 40)\n"
   ]
  },
  {
   "cell_type": "code",
   "execution_count": 50,
   "id": "995abee1-5067-4fff-bad4-b9b544b29c37",
   "metadata": {},
   "outputs": [
    {
     "data": {
      "text/plain": [
       "('Vinod', 40)"
      ]
     },
     "execution_count": 50,
     "metadata": {},
     "output_type": "execute_result"
    }
   ],
   "source": [
    "ob1.name, ob1.age"
   ]
  },
  {
   "cell_type": "code",
   "execution_count": 52,
   "id": "0a280b86-5f99-4e3d-8a12-a145179926c1",
   "metadata": {},
   "outputs": [
    {
     "data": {
      "text/plain": [
       "('Shivang', 10)"
      ]
     },
     "execution_count": 52,
     "metadata": {},
     "output_type": "execute_result"
    }
   ],
   "source": [
    "ob2 = Person(\"Shivang\", 10)\n",
    "ob2.name, ob2.age"
   ]
  },
  {
   "cell_type": "code",
   "execution_count": 56,
   "id": "73ef0325-8ac0-4849-9650-75bc018e44ff",
   "metadata": {},
   "outputs": [
    {
     "name": "stdout",
     "output_type": "stream",
     "text": [
      "My data: Shivang 10\n"
     ]
    }
   ],
   "source": [
    "ob2.show()"
   ]
  },
  {
   "cell_type": "code",
   "execution_count": 72,
   "id": "1b464517-4a6f-4f43-8604-a184f071a7d7",
   "metadata": {},
   "outputs": [],
   "source": [
    "class Person1:  ##########class name ##################\n",
    "  def __init__(self, n, a):  ############# Constructor #############\n",
    "    self.name = n            ########self.name instance variable, seperate copy created for seperate object\n",
    "    self.age = a\n",
    "\n",
    "  def show(self):                 ########function/behaviour\n",
    "     print('My data:' , self.name, self.age)\n",
    "  def isEligibleForVoting(self):\n",
    "      if self.age >=21:\n",
    "          return True\n",
    "      else:\n",
    "          return False"
   ]
  },
  {
   "cell_type": "code",
   "execution_count": 74,
   "id": "04a99407-225e-4f27-b7ce-5d44ae7c5e09",
   "metadata": {},
   "outputs": [],
   "source": [
    "ob1 = Person1(\"Vinod\", 40)"
   ]
  },
  {
   "cell_type": "code",
   "execution_count": 76,
   "id": "95727301-74c3-4005-8d69-1efd126a71b3",
   "metadata": {},
   "outputs": [],
   "source": [
    "ob2 = Person1(\"Shivang\", 10)"
   ]
  },
  {
   "cell_type": "code",
   "execution_count": 80,
   "id": "e24ce9b8-7e8a-485c-bf50-4592666e9c67",
   "metadata": {},
   "outputs": [
    {
     "data": {
      "text/plain": [
       "False"
      ]
     },
     "execution_count": 80,
     "metadata": {},
     "output_type": "execute_result"
    }
   ],
   "source": [
    "ob2.isEligibleForVoting()"
   ]
  },
  {
   "cell_type": "code",
   "execution_count": null,
   "id": "bb9840a0-5dfd-41e0-bd3e-154ac1ebdd62",
   "metadata": {},
   "outputs": [],
   "source": []
  }
 ],
 "metadata": {
  "kernelspec": {
   "display_name": "Python 3 (ipykernel)",
   "language": "python",
   "name": "python3"
  },
  "language_info": {
   "codemirror_mode": {
    "name": "ipython",
    "version": 3
   },
   "file_extension": ".py",
   "mimetype": "text/x-python",
   "name": "python",
   "nbconvert_exporter": "python",
   "pygments_lexer": "ipython3",
   "version": "3.12.4"
  }
 },
 "nbformat": 4,
 "nbformat_minor": 5
}
